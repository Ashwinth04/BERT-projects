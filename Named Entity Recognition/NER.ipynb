{
 "cells": [
  {
   "cell_type": "code",
   "execution_count": 1,
   "id": "4ecf6973-3e44-48b2-9efa-f7650a7aff11",
   "metadata": {
    "collapsed": true,
    "jupyter": {
     "outputs_hidden": true
    },
    "tags": []
   },
   "outputs": [
    {
     "name": "stdout",
     "output_type": "stream",
     "text": [
      "Requirement already satisfied: datasets in c:\\users\\dr.g.mahadevan\\appdata\\local\\programs\\python\\python37\\lib\\site-packages (2.13.2)\n",
      "Requirement already satisfied: transformers in c:\\users\\dr.g.mahadevan\\appdata\\local\\programs\\python\\python37\\lib\\site-packages (4.30.2)\n",
      "Requirement already satisfied: tokenizers in c:\\users\\dr.g.mahadevan\\appdata\\local\\programs\\python\\python37\\lib\\site-packages (0.13.3)\n",
      "Requirement already satisfied: numpy>=1.17 in c:\\users\\dr.g.mahadevan\\appdata\\local\\programs\\python\\python37\\lib\\site-packages (from datasets) (1.21.6)\n",
      "Requirement already satisfied: pyarrow>=8.0.0 in c:\\users\\dr.g.mahadevan\\appdata\\local\\programs\\python\\python37\\lib\\site-packages (from datasets) (12.0.1)\n",
      "Requirement already satisfied: dill<0.3.7,>=0.3.0 in c:\\users\\dr.g.mahadevan\\appdata\\local\\programs\\python\\python37\\lib\\site-packages (from datasets) (0.3.6)\n",
      "Requirement already satisfied: pandas in c:\\users\\dr.g.mahadevan\\appdata\\local\\programs\\python\\python37\\lib\\site-packages (from datasets) (1.3.5)\n",
      "Requirement already satisfied: requests>=2.19.0 in c:\\users\\dr.g.mahadevan\\appdata\\local\\programs\\python\\python37\\lib\\site-packages (from datasets) (2.31.0)\n",
      "Requirement already satisfied: tqdm>=4.62.1 in c:\\users\\dr.g.mahadevan\\appdata\\local\\programs\\python\\python37\\lib\\site-packages (from datasets) (4.66.1)\n",
      "Requirement already satisfied: xxhash in c:\\users\\dr.g.mahadevan\\appdata\\local\\programs\\python\\python37\\lib\\site-packages (from datasets) (3.4.1)\n",
      "Requirement already satisfied: multiprocess in c:\\users\\dr.g.mahadevan\\appdata\\local\\programs\\python\\python37\\lib\\site-packages (from datasets) (0.70.14)\n",
      "Requirement already satisfied: fsspec>=2021.11.1 in c:\\users\\dr.g.mahadevan\\appdata\\local\\programs\\python\\python37\\lib\\site-packages (from fsspec[http]>=2021.11.1->datasets) (2023.1.0)\n",
      "Requirement already satisfied: aiohttp in c:\\users\\dr.g.mahadevan\\appdata\\local\\programs\\python\\python37\\lib\\site-packages (from datasets) (3.8.6)\n",
      "Requirement already satisfied: huggingface-hub<1.0.0,>=0.11.0 in c:\\users\\dr.g.mahadevan\\appdata\\local\\programs\\python\\python37\\lib\\site-packages (from datasets) (0.16.4)\n",
      "Requirement already satisfied: packaging in c:\\users\\dr.g.mahadevan\\appdata\\local\\programs\\python\\python37\\lib\\site-packages (from datasets) (23.2)\n",
      "Requirement already satisfied: pyyaml>=5.1 in c:\\users\\dr.g.mahadevan\\appdata\\local\\programs\\python\\python37\\lib\\site-packages (from datasets) (6.0.1)\n",
      "Requirement already satisfied: importlib-metadata in c:\\users\\dr.g.mahadevan\\appdata\\local\\programs\\python\\python37\\lib\\site-packages (from datasets) (6.7.0)\n",
      "Requirement already satisfied: filelock in c:\\users\\dr.g.mahadevan\\appdata\\local\\programs\\python\\python37\\lib\\site-packages (from transformers) (3.12.2)\n",
      "Requirement already satisfied: regex!=2019.12.17 in c:\\users\\dr.g.mahadevan\\appdata\\local\\programs\\python\\python37\\lib\\site-packages (from transformers) (2023.12.25)\n",
      "Requirement already satisfied: safetensors>=0.3.1 in c:\\users\\dr.g.mahadevan\\appdata\\local\\programs\\python\\python37\\lib\\site-packages (from transformers) (0.4.2)\n",
      "Requirement already satisfied: attrs>=17.3.0 in c:\\users\\dr.g.mahadevan\\appdata\\local\\programs\\python\\python37\\lib\\site-packages (from aiohttp->datasets) (23.1.0)\n",
      "Requirement already satisfied: charset-normalizer<4.0,>=2.0 in c:\\users\\dr.g.mahadevan\\appdata\\local\\programs\\python\\python37\\lib\\site-packages (from aiohttp->datasets) (3.3.2)\n",
      "Requirement already satisfied: multidict<7.0,>=4.5 in c:\\users\\dr.g.mahadevan\\appdata\\local\\programs\\python\\python37\\lib\\site-packages (from aiohttp->datasets) (6.0.4)\n",
      "Requirement already satisfied: async-timeout<5.0,>=4.0.0a3 in c:\\users\\dr.g.mahadevan\\appdata\\local\\programs\\python\\python37\\lib\\site-packages (from aiohttp->datasets) (4.0.3)\n",
      "Requirement already satisfied: yarl<2.0,>=1.0 in c:\\users\\dr.g.mahadevan\\appdata\\local\\programs\\python\\python37\\lib\\site-packages (from aiohttp->datasets) (1.9.4)\n",
      "Requirement already satisfied: frozenlist>=1.1.1 in c:\\users\\dr.g.mahadevan\\appdata\\local\\programs\\python\\python37\\lib\\site-packages (from aiohttp->datasets) (1.3.3)\n",
      "Requirement already satisfied: aiosignal>=1.1.2 in c:\\users\\dr.g.mahadevan\\appdata\\local\\programs\\python\\python37\\lib\\site-packages (from aiohttp->datasets) (1.3.1)\n",
      "Requirement already satisfied: asynctest==0.13.0 in c:\\users\\dr.g.mahadevan\\appdata\\local\\programs\\python\\python37\\lib\\site-packages (from aiohttp->datasets) (0.13.0)\n",
      "Requirement already satisfied: typing-extensions>=3.7.4 in c:\\users\\dr.g.mahadevan\\appdata\\local\\programs\\python\\python37\\lib\\site-packages (from aiohttp->datasets) (4.7.1)\n",
      "Requirement already satisfied: idna<4,>=2.5 in c:\\users\\dr.g.mahadevan\\appdata\\local\\programs\\python\\python37\\lib\\site-packages (from requests>=2.19.0->datasets) (3.4)\n",
      "Requirement already satisfied: urllib3<3,>=1.21.1 in c:\\users\\dr.g.mahadevan\\appdata\\local\\programs\\python\\python37\\lib\\site-packages (from requests>=2.19.0->datasets) (2.0.7)\n",
      "Requirement already satisfied: certifi>=2017.4.17 in c:\\users\\dr.g.mahadevan\\appdata\\local\\programs\\python\\python37\\lib\\site-packages (from requests>=2.19.0->datasets) (2023.7.22)\n",
      "Requirement already satisfied: colorama in c:\\users\\dr.g.mahadevan\\appdata\\local\\programs\\python\\python37\\lib\\site-packages (from tqdm>=4.62.1->datasets) (0.4.6)\n",
      "Requirement already satisfied: zipp>=0.5 in c:\\users\\dr.g.mahadevan\\appdata\\local\\programs\\python\\python37\\lib\\site-packages (from importlib-metadata->datasets) (3.15.0)\n",
      "Requirement already satisfied: python-dateutil>=2.7.3 in c:\\users\\dr.g.mahadevan\\appdata\\local\\programs\\python\\python37\\lib\\site-packages (from pandas->datasets) (2.8.2)\n",
      "Requirement already satisfied: pytz>=2017.3 in c:\\users\\dr.g.mahadevan\\appdata\\local\\programs\\python\\python37\\lib\\site-packages (from pandas->datasets) (2023.3.post1)\n",
      "Requirement already satisfied: six>=1.5 in c:\\users\\dr.g.mahadevan\\appdata\\local\\programs\\python\\python37\\lib\\site-packages (from python-dateutil>=2.7.3->pandas->datasets) (1.16.0)\n"
     ]
    }
   ],
   "source": [
    "!pip install datasets transformers tokenizers"
   ]
  },
  {
   "cell_type": "code",
   "execution_count": 2,
   "id": "573466f0-252f-46a7-99c0-56d17b003232",
   "metadata": {},
   "outputs": [],
   "source": [
    "!pip install seqeval -q"
   ]
  },
  {
   "cell_type": "code",
   "execution_count": 6,
   "id": "ce8d48d6-64a8-4926-90b4-96344431c903",
   "metadata": {
    "collapsed": true,
    "jupyter": {
     "outputs_hidden": true
    },
    "tags": []
   },
   "outputs": [
    {
     "name": "stdout",
     "output_type": "stream",
     "text": [
      "Requirement already satisfied: setuptools in c:\\users\\dr.g.mahadevan\\appdata\\local\\programs\\python\\python37\\lib\\site-packages (41.2.0)\n",
      "Collecting setuptools\n",
      "  Using cached setuptools-68.0.0-py3-none-any.whl.metadata (6.4 kB)\n",
      "Requirement already satisfied: pip in c:\\users\\dr.g.mahadevan\\appdata\\local\\programs\\python\\python37\\lib\\site-packages (24.0)\n",
      "Using cached setuptools-68.0.0-py3-none-any.whl (804 kB)\n",
      "Installing collected packages: setuptools\n",
      "  Attempting uninstall: setuptools\n",
      "    Found existing installation: setuptools 41.2.0\n",
      "    Uninstalling setuptools-41.2.0:\n",
      "      Successfully uninstalled setuptools-41.2.0\n",
      "Successfully installed setuptools-68.0.0\n"
     ]
    }
   ],
   "source": [
    "!pip install --upgrade setuptools pip"
   ]
  },
  {
   "cell_type": "code",
   "execution_count": 3,
   "id": "38118a45-7860-4bc4-914c-f2300b15b823",
   "metadata": {
    "collapsed": true,
    "jupyter": {
     "outputs_hidden": true
    },
    "tags": []
   },
   "outputs": [
    {
     "name": "stdout",
     "output_type": "stream",
     "text": [
      "Requirement already satisfied: accelerate in c:\\users\\dr.g.mahadevan\\appdata\\local\\programs\\python\\python37\\lib\\site-packages (0.20.3)\n",
      "Requirement already satisfied: numpy>=1.17 in c:\\users\\dr.g.mahadevan\\appdata\\local\\programs\\python\\python37\\lib\\site-packages (from accelerate) (1.21.6)\n",
      "Requirement already satisfied: packaging>=20.0 in c:\\users\\dr.g.mahadevan\\appdata\\local\\programs\\python\\python37\\lib\\site-packages (from accelerate) (23.2)\n",
      "Requirement already satisfied: psutil in c:\\users\\dr.g.mahadevan\\appdata\\local\\programs\\python\\python37\\lib\\site-packages (from accelerate) (5.9.6)\n",
      "Requirement already satisfied: pyyaml in c:\\users\\dr.g.mahadevan\\appdata\\local\\programs\\python\\python37\\lib\\site-packages (from accelerate) (6.0.1)\n",
      "Requirement already satisfied: torch>=1.6.0 in c:\\users\\dr.g.mahadevan\\appdata\\local\\programs\\python\\python37\\lib\\site-packages (from accelerate) (1.13.1)\n",
      "Requirement already satisfied: typing-extensions in c:\\users\\dr.g.mahadevan\\appdata\\local\\programs\\python\\python37\\lib\\site-packages (from torch>=1.6.0->accelerate) (4.7.1)\n"
     ]
    }
   ],
   "source": [
    "!pip install accelerate -U"
   ]
  },
  {
   "cell_type": "code",
   "execution_count": 4,
   "id": "bb1a28a0-1f86-4564-bac0-53781d02c3ad",
   "metadata": {
    "collapsed": true,
    "jupyter": {
     "outputs_hidden": true
    },
    "tags": []
   },
   "outputs": [
    {
     "name": "stdout",
     "output_type": "stream",
     "text": [
      "Requirement already satisfied: transformers[torch] in c:\\users\\dr.g.mahadevan\\appdata\\local\\programs\\python\\python37\\lib\\site-packages (4.30.2)\n",
      "Requirement already satisfied: filelock in c:\\users\\dr.g.mahadevan\\appdata\\local\\programs\\python\\python37\\lib\\site-packages (from transformers[torch]) (3.12.2)\n",
      "Requirement already satisfied: huggingface-hub<1.0,>=0.14.1 in c:\\users\\dr.g.mahadevan\\appdata\\local\\programs\\python\\python37\\lib\\site-packages (from transformers[torch]) (0.16.4)\n",
      "Requirement already satisfied: numpy>=1.17 in c:\\users\\dr.g.mahadevan\\appdata\\local\\programs\\python\\python37\\lib\\site-packages (from transformers[torch]) (1.21.6)\n",
      "Requirement already satisfied: packaging>=20.0 in c:\\users\\dr.g.mahadevan\\appdata\\local\\programs\\python\\python37\\lib\\site-packages (from transformers[torch]) (23.2)\n",
      "Requirement already satisfied: pyyaml>=5.1 in c:\\users\\dr.g.mahadevan\\appdata\\local\\programs\\python\\python37\\lib\\site-packages (from transformers[torch]) (6.0.1)\n",
      "Requirement already satisfied: regex!=2019.12.17 in c:\\users\\dr.g.mahadevan\\appdata\\local\\programs\\python\\python37\\lib\\site-packages (from transformers[torch]) (2023.12.25)\n",
      "Requirement already satisfied: requests in c:\\users\\dr.g.mahadevan\\appdata\\local\\programs\\python\\python37\\lib\\site-packages (from transformers[torch]) (2.31.0)\n",
      "Requirement already satisfied: tokenizers!=0.11.3,<0.14,>=0.11.1 in c:\\users\\dr.g.mahadevan\\appdata\\local\\programs\\python\\python37\\lib\\site-packages (from transformers[torch]) (0.13.3)\n",
      "Requirement already satisfied: safetensors>=0.3.1 in c:\\users\\dr.g.mahadevan\\appdata\\local\\programs\\python\\python37\\lib\\site-packages (from transformers[torch]) (0.4.2)\n",
      "Requirement already satisfied: tqdm>=4.27 in c:\\users\\dr.g.mahadevan\\appdata\\local\\programs\\python\\python37\\lib\\site-packages (from transformers[torch]) (4.66.1)\n",
      "Requirement already satisfied: importlib-metadata in c:\\users\\dr.g.mahadevan\\appdata\\local\\programs\\python\\python37\\lib\\site-packages (from transformers[torch]) (6.7.0)\n",
      "Requirement already satisfied: torch!=1.12.0,>=1.9 in c:\\users\\dr.g.mahadevan\\appdata\\local\\programs\\python\\python37\\lib\\site-packages (from transformers[torch]) (1.13.1)\n",
      "Requirement already satisfied: accelerate>=0.20.2 in c:\\users\\dr.g.mahadevan\\appdata\\local\\programs\\python\\python37\\lib\\site-packages (from transformers[torch]) (0.20.3)\n",
      "Requirement already satisfied: psutil in c:\\users\\dr.g.mahadevan\\appdata\\local\\programs\\python\\python37\\lib\\site-packages (from accelerate>=0.20.2->transformers[torch]) (5.9.6)\n",
      "Requirement already satisfied: fsspec in c:\\users\\dr.g.mahadevan\\appdata\\local\\programs\\python\\python37\\lib\\site-packages (from huggingface-hub<1.0,>=0.14.1->transformers[torch]) (2023.1.0)\n",
      "Requirement already satisfied: typing-extensions>=3.7.4.3 in c:\\users\\dr.g.mahadevan\\appdata\\local\\programs\\python\\python37\\lib\\site-packages (from huggingface-hub<1.0,>=0.14.1->transformers[torch]) (4.7.1)\n",
      "Requirement already satisfied: colorama in c:\\users\\dr.g.mahadevan\\appdata\\local\\programs\\python\\python37\\lib\\site-packages (from tqdm>=4.27->transformers[torch]) (0.4.6)\n",
      "Requirement already satisfied: zipp>=0.5 in c:\\users\\dr.g.mahadevan\\appdata\\local\\programs\\python\\python37\\lib\\site-packages (from importlib-metadata->transformers[torch]) (3.15.0)\n",
      "Requirement already satisfied: charset-normalizer<4,>=2 in c:\\users\\dr.g.mahadevan\\appdata\\local\\programs\\python\\python37\\lib\\site-packages (from requests->transformers[torch]) (3.3.2)\n",
      "Requirement already satisfied: idna<4,>=2.5 in c:\\users\\dr.g.mahadevan\\appdata\\local\\programs\\python\\python37\\lib\\site-packages (from requests->transformers[torch]) (3.4)\n",
      "Requirement already satisfied: urllib3<3,>=1.21.1 in c:\\users\\dr.g.mahadevan\\appdata\\local\\programs\\python\\python37\\lib\\site-packages (from requests->transformers[torch]) (2.0.7)\n",
      "Requirement already satisfied: certifi>=2017.4.17 in c:\\users\\dr.g.mahadevan\\appdata\\local\\programs\\python\\python37\\lib\\site-packages (from requests->transformers[torch]) (2023.7.22)\n"
     ]
    }
   ],
   "source": [
    "!pip install transformers[torch]"
   ]
  },
  {
   "cell_type": "code",
   "execution_count": 1,
   "id": "43bca1c4-8f10-4d2c-8953-ababed84cc82",
   "metadata": {},
   "outputs": [
    {
     "name": "stderr",
     "output_type": "stream",
     "text": [
      "C:\\Users\\Dr.G.Mahadevan\\AppData\\Local\\Programs\\Python\\Python37\\lib\\site-packages\\tqdm\\auto.py:21: TqdmWarning: IProgress not found. Please update jupyter and ipywidgets. See https://ipywidgets.readthedocs.io/en/stable/user_install.html\n",
      "  from .autonotebook import tqdm as notebook_tqdm\n"
     ]
    }
   ],
   "source": [
    "import datasets\n",
    "import numpy\n",
    "from transformers import BertTokenizerFast\n",
    "from transformers import DataCollatorForTokenClassification\n",
    "from transformers import AutoModelForTokenClassification"
   ]
  },
  {
   "cell_type": "code",
   "execution_count": 2,
   "id": "e29720e4-89b9-40c8-8c50-2d6ab31097e9",
   "metadata": {},
   "outputs": [
    {
     "name": "stderr",
     "output_type": "stream",
     "text": [
      "Found cached dataset conll2003 (C:/Users/Dr.G.Mahadevan/.cache/huggingface/datasets/conll2003/conll2003/1.0.0/9a4d16a94f8674ba3466315300359b0acd891b68b6c8743ddf60b9c702adce98)\n",
      "100%|██████████████████████████████████████████████████████████████████████████████████████████████████████████████████████████████████████████████████████████████████████████████████████████████████████| 3/3 [00:00<00:00, 20.94it/s]\n"
     ]
    }
   ],
   "source": [
    "dataset = datasets.load_dataset(\"conll2003\")"
   ]
  },
  {
   "cell_type": "code",
   "execution_count": 3,
   "id": "3564e90f-e058-4ee9-89cd-08adf345c598",
   "metadata": {},
   "outputs": [
    {
     "data": {
      "text/plain": [
       "{'id': '0',\n",
       " 'tokens': ['EU',\n",
       "  'rejects',\n",
       "  'German',\n",
       "  'call',\n",
       "  'to',\n",
       "  'boycott',\n",
       "  'British',\n",
       "  'lamb',\n",
       "  '.'],\n",
       " 'pos_tags': [22, 42, 16, 21, 35, 37, 16, 21, 7],\n",
       " 'chunk_tags': [11, 21, 11, 12, 21, 22, 11, 12, 0],\n",
       " 'ner_tags': [3, 0, 7, 0, 0, 0, 7, 0, 0]}"
      ]
     },
     "execution_count": 3,
     "metadata": {},
     "output_type": "execute_result"
    }
   ],
   "source": [
    "dataset['train'][0]"
   ]
  },
  {
   "cell_type": "code",
   "execution_count": 4,
   "id": "bdc9b63b-cd39-4584-8dcd-b9b78480a4df",
   "metadata": {
    "collapsed": true,
    "jupyter": {
     "outputs_hidden": true
    },
    "tags": []
   },
   "outputs": [
    {
     "data": {
      "text/plain": [
       "[[3, 0, 7, 0, 0, 0, 7, 0, 0],\n",
       " [1, 2],\n",
       " [5, 0],\n",
       " [0,\n",
       "  3,\n",
       "  4,\n",
       "  0,\n",
       "  0,\n",
       "  0,\n",
       "  0,\n",
       "  0,\n",
       "  0,\n",
       "  7,\n",
       "  0,\n",
       "  0,\n",
       "  0,\n",
       "  0,\n",
       "  0,\n",
       "  7,\n",
       "  0,\n",
       "  0,\n",
       "  0,\n",
       "  0,\n",
       "  0,\n",
       "  0,\n",
       "  0,\n",
       "  0,\n",
       "  0,\n",
       "  0,\n",
       "  0,\n",
       "  0,\n",
       "  0,\n",
       "  0],\n",
       " [5,\n",
       "  0,\n",
       "  0,\n",
       "  0,\n",
       "  0,\n",
       "  3,\n",
       "  4,\n",
       "  0,\n",
       "  0,\n",
       "  0,\n",
       "  1,\n",
       "  2,\n",
       "  0,\n",
       "  0,\n",
       "  0,\n",
       "  0,\n",
       "  0,\n",
       "  0,\n",
       "  0,\n",
       "  0,\n",
       "  0,\n",
       "  0,\n",
       "  0,\n",
       "  5,\n",
       "  0,\n",
       "  0,\n",
       "  0,\n",
       "  0,\n",
       "  0,\n",
       "  0,\n",
       "  0]]"
      ]
     },
     "execution_count": 4,
     "metadata": {},
     "output_type": "execute_result"
    }
   ],
   "source": [
    "example = dataset['train'][0:5]\n",
    "example['ner_tags']"
   ]
  },
  {
   "cell_type": "code",
   "execution_count": 5,
   "id": "1624ffb6-e67d-47dc-8010-b86b51699b63",
   "metadata": {
    "tags": []
   },
   "outputs": [],
   "source": [
    "tokenizer = BertTokenizerFast.from_pretrained(\"bert-base-uncased\")"
   ]
  },
  {
   "cell_type": "code",
   "execution_count": 6,
   "id": "a9f02f37-0431-421d-ae43-0d520209cba1",
   "metadata": {},
   "outputs": [],
   "source": [
    "def tokenize_and_align_labels(examples, label_all_tokens = True):\n",
    "    tokenized_inputs = tokenizer(examples['tokens'],truncation = True, is_split_into_words = True)\n",
    "    labels = []\n",
    "    for i,label in enumerate(examples['ner_tags']):   \n",
    "        word_ids = tokenized_inputs.word_ids(batch_index = i)\n",
    "        previous_word_idx = None\n",
    "        label_ids = []\n",
    "        for word_idx in word_ids:\n",
    "            if word_idx is None:\n",
    "                label_ids.append(-100)\n",
    "            elif word_idx != previous_word_idx:\n",
    "                label_ids.append(label[word_idx])\n",
    "            else:\n",
    "                label_ids.append(label[word_idx] if label_all_tokens else -100)\n",
    "            previous_word_idx = word_idx\n",
    "        labels.append(label_ids)\n",
    "    tokenized_inputs[\"labels\"] = labels\n",
    "    return tokenized_inputs"
   ]
  },
  {
   "cell_type": "code",
   "execution_count": 7,
   "id": "56862d4d-71bc-48b8-a070-37d5f6315db2",
   "metadata": {},
   "outputs": [],
   "source": [
    "eg = dataset['train'][4:5]"
   ]
  },
  {
   "cell_type": "code",
   "execution_count": 8,
   "id": "d81589f7-9b3f-4c9f-8a90-fc60f9bcf780",
   "metadata": {
    "collapsed": true,
    "jupyter": {
     "outputs_hidden": true
    },
    "tags": []
   },
   "outputs": [
    {
     "data": {
      "text/plain": [
       "{'id': ['4'],\n",
       " 'tokens': [['Germany',\n",
       "   \"'s\",\n",
       "   'representative',\n",
       "   'to',\n",
       "   'the',\n",
       "   'European',\n",
       "   'Union',\n",
       "   \"'s\",\n",
       "   'veterinary',\n",
       "   'committee',\n",
       "   'Werner',\n",
       "   'Zwingmann',\n",
       "   'said',\n",
       "   'on',\n",
       "   'Wednesday',\n",
       "   'consumers',\n",
       "   'should',\n",
       "   'buy',\n",
       "   'sheepmeat',\n",
       "   'from',\n",
       "   'countries',\n",
       "   'other',\n",
       "   'than',\n",
       "   'Britain',\n",
       "   'until',\n",
       "   'the',\n",
       "   'scientific',\n",
       "   'advice',\n",
       "   'was',\n",
       "   'clearer',\n",
       "   '.']],\n",
       " 'pos_tags': [[22,\n",
       "   27,\n",
       "   21,\n",
       "   35,\n",
       "   12,\n",
       "   22,\n",
       "   22,\n",
       "   27,\n",
       "   16,\n",
       "   21,\n",
       "   22,\n",
       "   22,\n",
       "   38,\n",
       "   15,\n",
       "   22,\n",
       "   24,\n",
       "   20,\n",
       "   37,\n",
       "   21,\n",
       "   15,\n",
       "   24,\n",
       "   16,\n",
       "   15,\n",
       "   22,\n",
       "   15,\n",
       "   12,\n",
       "   16,\n",
       "   21,\n",
       "   38,\n",
       "   17,\n",
       "   7]],\n",
       " 'chunk_tags': [[11,\n",
       "   11,\n",
       "   12,\n",
       "   13,\n",
       "   11,\n",
       "   12,\n",
       "   12,\n",
       "   11,\n",
       "   12,\n",
       "   12,\n",
       "   12,\n",
       "   12,\n",
       "   21,\n",
       "   13,\n",
       "   11,\n",
       "   12,\n",
       "   21,\n",
       "   22,\n",
       "   11,\n",
       "   13,\n",
       "   11,\n",
       "   1,\n",
       "   13,\n",
       "   11,\n",
       "   17,\n",
       "   11,\n",
       "   12,\n",
       "   12,\n",
       "   21,\n",
       "   1,\n",
       "   0]],\n",
       " 'ner_tags': [[5,\n",
       "   0,\n",
       "   0,\n",
       "   0,\n",
       "   0,\n",
       "   3,\n",
       "   4,\n",
       "   0,\n",
       "   0,\n",
       "   0,\n",
       "   1,\n",
       "   2,\n",
       "   0,\n",
       "   0,\n",
       "   0,\n",
       "   0,\n",
       "   0,\n",
       "   0,\n",
       "   0,\n",
       "   0,\n",
       "   0,\n",
       "   0,\n",
       "   0,\n",
       "   5,\n",
       "   0,\n",
       "   0,\n",
       "   0,\n",
       "   0,\n",
       "   0,\n",
       "   0,\n",
       "   0]]}"
      ]
     },
     "execution_count": 8,
     "metadata": {},
     "output_type": "execute_result"
    }
   ],
   "source": [
    "eg"
   ]
  },
  {
   "cell_type": "code",
   "execution_count": 9,
   "id": "07d31f9c-6932-4a92-ba01-2ca6bbb49448",
   "metadata": {},
   "outputs": [
    {
     "data": {
      "text/plain": [
       "{'input_ids': [[101, 2762, 1005, 1055, 4387, 2000, 1996, 2647, 2586, 1005, 1055, 15651, 2837, 14121, 1062, 9328, 5804, 2056, 2006, 9317, 10390, 2323, 4965, 8351, 4168, 4017, 2013, 3032, 2060, 2084, 3725, 2127, 1996, 4045, 6040, 2001, 24509, 1012, 102]], 'token_type_ids': [[0, 0, 0, 0, 0, 0, 0, 0, 0, 0, 0, 0, 0, 0, 0, 0, 0, 0, 0, 0, 0, 0, 0, 0, 0, 0, 0, 0, 0, 0, 0, 0, 0, 0, 0, 0, 0, 0, 0]], 'attention_mask': [[1, 1, 1, 1, 1, 1, 1, 1, 1, 1, 1, 1, 1, 1, 1, 1, 1, 1, 1, 1, 1, 1, 1, 1, 1, 1, 1, 1, 1, 1, 1, 1, 1, 1, 1, 1, 1, 1, 1]], 'labels': [[-100, 5, 0, 0, 0, 0, 0, 3, 4, 0, 0, 0, 0, 1, 2, 2, 2, 0, 0, 0, 0, 0, 0, 0, 0, 0, 0, 0, 0, 0, 5, 0, 0, 0, 0, 0, 0, 0, -100]]}"
      ]
     },
     "execution_count": 9,
     "metadata": {},
     "output_type": "execute_result"
    }
   ],
   "source": [
    "q = tokenize_and_align_labels(eg)\n",
    "q"
   ]
  },
  {
   "cell_type": "code",
   "execution_count": 10,
   "id": "6a041c49-7a8d-43aa-8e1f-92e2e657997f",
   "metadata": {
    "tags": []
   },
   "outputs": [
    {
     "name": "stdout",
     "output_type": "stream",
     "text": [
      "[CLS]-----------------------------------  -100\n",
      "germany---------------------------------  5\n",
      "'---------------------------------------  0\n",
      "s---------------------------------------  0\n",
      "representative--------------------------  0\n",
      "to--------------------------------------  0\n",
      "the-------------------------------------  0\n",
      "european--------------------------------  3\n",
      "union-----------------------------------  4\n",
      "'---------------------------------------  0\n",
      "s---------------------------------------  0\n",
      "veterinary------------------------------  0\n",
      "committee-------------------------------  0\n",
      "werner----------------------------------  1\n",
      "z---------------------------------------  2\n",
      "##wing----------------------------------  2\n",
      "##mann----------------------------------  2\n",
      "said------------------------------------  0\n",
      "on--------------------------------------  0\n",
      "wednesday-------------------------------  0\n",
      "consumers-------------------------------  0\n",
      "should----------------------------------  0\n",
      "buy-------------------------------------  0\n",
      "sheep-----------------------------------  0\n",
      "##me------------------------------------  0\n",
      "##at------------------------------------  0\n",
      "from------------------------------------  0\n",
      "countries-------------------------------  0\n",
      "other-----------------------------------  0\n",
      "than------------------------------------  0\n",
      "britain---------------------------------  5\n",
      "until-----------------------------------  0\n",
      "the-------------------------------------  0\n",
      "scientific------------------------------  0\n",
      "advice----------------------------------  0\n",
      "was-------------------------------------  0\n",
      "clearer---------------------------------  0\n",
      ".---------------------------------------  0\n",
      "[SEP]-----------------------------------  -100\n"
     ]
    }
   ],
   "source": [
    "for token,label in zip(tokenizer.convert_ids_to_tokens(q['input_ids'][0]),q['labels'][0]):\n",
    "    print(f\"{token:-<40}  {label}\")"
   ]
  },
  {
   "cell_type": "code",
   "execution_count": 11,
   "id": "4ae5dd72-f6c5-46be-9731-74652457f4af",
   "metadata": {},
   "outputs": [
    {
     "name": "stderr",
     "output_type": "stream",
     "text": [
      "Loading cached processed dataset at C:\\Users\\Dr.G.Mahadevan\\.cache\\huggingface\\datasets\\conll2003\\conll2003\\1.0.0\\9a4d16a94f8674ba3466315300359b0acd891b68b6c8743ddf60b9c702adce98\\cache-5779b3e5f06a8303.arrow\n",
      "Loading cached processed dataset at C:\\Users\\Dr.G.Mahadevan\\.cache\\huggingface\\datasets\\conll2003\\conll2003\\1.0.0\\9a4d16a94f8674ba3466315300359b0acd891b68b6c8743ddf60b9c702adce98\\cache-49336a601559a173.arrow\n",
      "Loading cached processed dataset at C:\\Users\\Dr.G.Mahadevan\\.cache\\huggingface\\datasets\\conll2003\\conll2003\\1.0.0\\9a4d16a94f8674ba3466315300359b0acd891b68b6c8743ddf60b9c702adce98\\cache-a1fc168ae24c007c.arrow\n"
     ]
    }
   ],
   "source": [
    "tokenized_dataset = dataset.map(tokenize_and_align_labels, batched = True)"
   ]
  },
  {
   "cell_type": "code",
   "execution_count": 12,
   "id": "ee6989e4-355d-4607-9711-5f33af991b26",
   "metadata": {},
   "outputs": [
    {
     "data": {
      "text/plain": [
       "{'id': '0',\n",
       " 'tokens': ['EU',\n",
       "  'rejects',\n",
       "  'German',\n",
       "  'call',\n",
       "  'to',\n",
       "  'boycott',\n",
       "  'British',\n",
       "  'lamb',\n",
       "  '.'],\n",
       " 'pos_tags': [22, 42, 16, 21, 35, 37, 16, 21, 7],\n",
       " 'chunk_tags': [11, 21, 11, 12, 21, 22, 11, 12, 0],\n",
       " 'ner_tags': [3, 0, 7, 0, 0, 0, 7, 0, 0],\n",
       " 'input_ids': [101,\n",
       "  7327,\n",
       "  19164,\n",
       "  2446,\n",
       "  2655,\n",
       "  2000,\n",
       "  17757,\n",
       "  2329,\n",
       "  12559,\n",
       "  1012,\n",
       "  102],\n",
       " 'token_type_ids': [0, 0, 0, 0, 0, 0, 0, 0, 0, 0, 0],\n",
       " 'attention_mask': [1, 1, 1, 1, 1, 1, 1, 1, 1, 1, 1],\n",
       " 'labels': [-100, 3, 0, 7, 0, 0, 0, 7, 0, 0, -100]}"
      ]
     },
     "execution_count": 12,
     "metadata": {},
     "output_type": "execute_result"
    }
   ],
   "source": [
    "tokenized_dataset['train'][0]"
   ]
  },
  {
   "cell_type": "code",
   "execution_count": 13,
   "id": "e468f22c-a8d2-443e-9518-0ecd04c16d47",
   "metadata": {
    "tags": []
   },
   "outputs": [
    {
     "data": {
      "text/plain": [
       "{'id': '0',\n",
       " 'tokens': ['EU',\n",
       "  'rejects',\n",
       "  'German',\n",
       "  'call',\n",
       "  'to',\n",
       "  'boycott',\n",
       "  'British',\n",
       "  'lamb',\n",
       "  '.'],\n",
       " 'pos_tags': [22, 42, 16, 21, 35, 37, 16, 21, 7],\n",
       " 'chunk_tags': [11, 21, 11, 12, 21, 22, 11, 12, 0],\n",
       " 'ner_tags': [3, 0, 7, 0, 0, 0, 7, 0, 0]}"
      ]
     },
     "execution_count": 13,
     "metadata": {},
     "output_type": "execute_result"
    }
   ],
   "source": [
    "dataset['train'][0]"
   ]
  },
  {
   "cell_type": "code",
   "execution_count": 14,
   "id": "4ff2722b-f726-44f0-855e-bd9a31a73752",
   "metadata": {
    "tags": []
   },
   "outputs": [
    {
     "name": "stderr",
     "output_type": "stream",
     "text": [
      "Some weights of the model checkpoint at bert-base-uncased were not used when initializing BertForTokenClassification: ['cls.seq_relationship.weight', 'cls.predictions.bias', 'cls.predictions.transform.LayerNorm.weight', 'cls.predictions.transform.LayerNorm.bias', 'cls.predictions.transform.dense.weight', 'cls.seq_relationship.bias', 'cls.predictions.transform.dense.bias']\n",
      "- This IS expected if you are initializing BertForTokenClassification from the checkpoint of a model trained on another task or with another architecture (e.g. initializing a BertForSequenceClassification model from a BertForPreTraining model).\n",
      "- This IS NOT expected if you are initializing BertForTokenClassification from the checkpoint of a model that you expect to be exactly identical (initializing a BertForSequenceClassification model from a BertForSequenceClassification model).\n",
      "Some weights of BertForTokenClassification were not initialized from the model checkpoint at bert-base-uncased and are newly initialized: ['classifier.weight', 'classifier.bias']\n",
      "You should probably TRAIN this model on a down-stream task to be able to use it for predictions and inference.\n"
     ]
    }
   ],
   "source": [
    "model = AutoModelForTokenClassification.from_pretrained(\"bert-base-uncased\",num_labels = 9)"
   ]
  },
  {
   "cell_type": "code",
   "execution_count": 15,
   "id": "0a758a90-d8b9-444e-9e94-ef931ad5847a",
   "metadata": {},
   "outputs": [],
   "source": [
    "from transformers import TrainingArguments, Trainer\n",
    "\n",
    "args = TrainingArguments(\n",
    "    \"test-ner\",\n",
    "    evaluation_strategy = \"epoch\",\n",
    "    learning_rate = 2e-5,\n",
    "    per_device_train_batch_size = 16,\n",
    "    per_device_eval_batch_size = 16,\n",
    "    num_train_epochs = 3,\n",
    "    weight_decay = 0.01\n",
    ")"
   ]
  },
  {
   "cell_type": "code",
   "execution_count": 16,
   "id": "002dc454-95e0-4611-a408-f542b720500b",
   "metadata": {},
   "outputs": [],
   "source": [
    "data_collator = DataCollatorForTokenClassification(tokenizer)"
   ]
  },
  {
   "cell_type": "code",
   "execution_count": 17,
   "id": "ca098ce2-67b0-4d7f-9463-530f8a6cd289",
   "metadata": {},
   "outputs": [
    {
     "name": "stderr",
     "output_type": "stream",
     "text": [
      "C:\\Users\\Dr.G.Mahadevan\\AppData\\Local\\Programs\\Python\\Python37\\lib\\site-packages\\ipykernel_launcher.py:1: FutureWarning: load_metric is deprecated and will be removed in the next major version of datasets. Use 'evaluate.load' instead, from the new library 🤗 Evaluate: https://huggingface.co/docs/evaluate\n",
      "  \"\"\"Entry point for launching an IPython kernel.\n"
     ]
    }
   ],
   "source": [
    "metric = datasets.load_metric(\"seqeval\")"
   ]
  },
  {
   "cell_type": "code",
   "execution_count": 18,
   "id": "42f95f46-b9ba-4a68-803f-6ceaca9147b2",
   "metadata": {},
   "outputs": [],
   "source": [
    "example = dataset['train'][0]"
   ]
  },
  {
   "cell_type": "code",
   "execution_count": 19,
   "id": "1195b55e-0cf5-482d-8d41-5526282d0410",
   "metadata": {},
   "outputs": [
    {
     "data": {
      "text/plain": [
       "['O', 'B-PER', 'I-PER', 'B-ORG', 'I-ORG', 'B-LOC', 'I-LOC', 'B-MISC', 'I-MISC']"
      ]
     },
     "execution_count": 19,
     "metadata": {},
     "output_type": "execute_result"
    }
   ],
   "source": [
    "label_list = dataset['train'].features['ner_tags'].feature.names\n",
    "label_list"
   ]
  },
  {
   "cell_type": "code",
   "execution_count": 20,
   "id": "8af0f184-cbcc-4e12-b0d2-0415df56e7a4",
   "metadata": {},
   "outputs": [],
   "source": [
    "labels = [label_list[i] for i in example['ner_tags']]"
   ]
  },
  {
   "cell_type": "code",
   "execution_count": 21,
   "id": "c1c8b6a5-e61c-48bb-ba8c-35d963ffbb28",
   "metadata": {},
   "outputs": [
    {
     "data": {
      "text/plain": [
       "['B-ORG', 'O', 'B-MISC', 'O', 'O', 'O', 'B-MISC', 'O', 'O']"
      ]
     },
     "execution_count": 21,
     "metadata": {},
     "output_type": "execute_result"
    }
   ],
   "source": [
    "labels"
   ]
  },
  {
   "cell_type": "code",
   "execution_count": 22,
   "id": "ea1c5dde-2488-4ed9-a6af-123b84718a86",
   "metadata": {},
   "outputs": [
    {
     "data": {
      "text/plain": [
       "{'MISC': {'precision': 1.0, 'recall': 1.0, 'f1': 1.0, 'number': 2},\n",
       " 'ORG': {'precision': 1.0, 'recall': 1.0, 'f1': 1.0, 'number': 1},\n",
       " 'overall_precision': 1.0,\n",
       " 'overall_recall': 1.0,\n",
       " 'overall_f1': 1.0,\n",
       " 'overall_accuracy': 1.0}"
      ]
     },
     "execution_count": 22,
     "metadata": {},
     "output_type": "execute_result"
    }
   ],
   "source": [
    "metric.compute(predictions=[labels],references=[labels])"
   ]
  },
  {
   "cell_type": "code",
   "execution_count": 23,
   "id": "260de4a5-cee8-4b04-986c-ff96cd210f27",
   "metadata": {},
   "outputs": [],
   "source": [
    "import numpy as np\n",
    "def compute_metrics(eval_preds):\n",
    "    logits, labels = eval_preds\n",
    "    logits = np.argmax(logits,axis=2)\n",
    "    predictions = [\n",
    "        [label_list[eval_preds] for (eval_preds,l) in zip(prediction,label)  if l != -100]\n",
    "        for prediction,label in zip(logits,labels)\n",
    "    ]\n",
    "    \n",
    "    true_labels = [\n",
    "        [label_list[l] for (eval_preds,l) in zip(prediction,label)  if l != -100]\n",
    "        for prediction,label in zip(logits,labels)\n",
    "    ]\n",
    "    \n",
    "    results = metric.compute(predictions=predictions,references=true_labels)\n",
    "    \n",
    "    return {\n",
    "        \"precision\":results['overall_precision'],\n",
    "        \"recall\":results['overall_recall'],\n",
    "        \"f1\":results['overall_f1'],\n",
    "        \"accuracy\":results['overall_accuracy']\n",
    "    }\n",
    "    \n",
    "    "
   ]
  },
  {
   "cell_type": "code",
   "execution_count": 24,
   "id": "739d57e4-5c7e-43f3-9763-48803f4c88cd",
   "metadata": {},
   "outputs": [],
   "source": [
    "trainer = Trainer(\n",
    "    model,\n",
    "    args,\n",
    "    train_dataset = tokenized_dataset['train'],\n",
    "    eval_dataset = tokenized_dataset['validation'],\n",
    "    data_collator = data_collator,\n",
    "    tokenizer = tokenizer,\n",
    "    compute_metrics = compute_metrics\n",
    ")"
   ]
  },
  {
   "cell_type": "code",
   "execution_count": 25,
   "id": "675a7cdb-1a34-4564-91ed-b96b33efda51",
   "metadata": {},
   "outputs": [
    {
     "name": "stderr",
     "output_type": "stream",
     "text": [
      "C:\\Users\\Dr.G.Mahadevan\\AppData\\Local\\Programs\\Python\\Python37\\lib\\site-packages\\transformers\\optimization.py:415: FutureWarning: This implementation of AdamW is deprecated and will be removed in a future version. Use the PyTorch implementation torch.optim.AdamW instead, or set `no_deprecation_warning=True` to disable this warning\n",
      "  FutureWarning,\n",
      "You're using a BertTokenizerFast tokenizer. Please note that with a fast tokenizer, using the `__call__` method is faster than using a method to encode the text followed by a call to the `pad` method to get a padded encoding.\n"
     ]
    },
    {
     "data": {
      "text/html": [
       "\n",
       "    <div>\n",
       "      \n",
       "      <progress value='2634' max='2634' style='width:300px; height:20px; vertical-align: middle;'></progress>\n",
       "      [2634/2634 10:08:40, Epoch 3/3]\n",
       "    </div>\n",
       "    <table border=\"1\" class=\"dataframe\">\n",
       "  <thead>\n",
       " <tr style=\"text-align: left;\">\n",
       "      <th>Epoch</th>\n",
       "      <th>Training Loss</th>\n",
       "      <th>Validation Loss</th>\n",
       "      <th>Precision</th>\n",
       "      <th>Recall</th>\n",
       "      <th>F1</th>\n",
       "      <th>Accuracy</th>\n",
       "    </tr>\n",
       "  </thead>\n",
       "  <tbody>\n",
       "    <tr>\n",
       "      <td>1</td>\n",
       "      <td>0.218000</td>\n",
       "      <td>0.061485</td>\n",
       "      <td>0.925938</td>\n",
       "      <td>0.930082</td>\n",
       "      <td>0.928005</td>\n",
       "      <td>0.983478</td>\n",
       "    </tr>\n",
       "    <tr>\n",
       "      <td>2</td>\n",
       "      <td>0.050100</td>\n",
       "      <td>0.053564</td>\n",
       "      <td>0.929447</td>\n",
       "      <td>0.941716</td>\n",
       "      <td>0.935541</td>\n",
       "      <td>0.985496</td>\n",
       "    </tr>\n",
       "    <tr>\n",
       "      <td>3</td>\n",
       "      <td>0.024600</td>\n",
       "      <td>0.055377</td>\n",
       "      <td>0.934672</td>\n",
       "      <td>0.942723</td>\n",
       "      <td>0.938680</td>\n",
       "      <td>0.985655</td>\n",
       "    </tr>\n",
       "  </tbody>\n",
       "</table><p>"
      ],
      "text/plain": [
       "<IPython.core.display.HTML object>"
      ]
     },
     "metadata": {},
     "output_type": "display_data"
    },
    {
     "data": {
      "text/plain": [
       "TrainOutput(global_step=2634, training_loss=0.07766928605808845, metrics={'train_runtime': 36526.6942, 'train_samples_per_second': 1.153, 'train_steps_per_second': 0.072, 'total_flos': 1021316467278600.0, 'train_loss': 0.07766928605808845, 'epoch': 3.0})"
      ]
     },
     "execution_count": 25,
     "metadata": {},
     "output_type": "execute_result"
    }
   ],
   "source": [
    "trainer.train()"
   ]
  },
  {
   "cell_type": "code",
   "execution_count": 26,
   "id": "9c491325-2073-438f-af7b-7ab78e84a85e",
   "metadata": {},
   "outputs": [],
   "source": [
    "model.save_pretrained(\"NER-model\")"
   ]
  },
  {
   "cell_type": "code",
   "execution_count": 27,
   "id": "d0ef2de4-d5a9-40f5-9660-1cfb8f409cfc",
   "metadata": {},
   "outputs": [
    {
     "data": {
      "text/plain": [
       "('Tokenizer\\\\tokenizer_config.json',\n",
       " 'Tokenizer\\\\special_tokens_map.json',\n",
       " 'Tokenizer\\\\vocab.txt',\n",
       " 'Tokenizer\\\\added_tokens.json',\n",
       " 'Tokenizer\\\\tokenizer.json')"
      ]
     },
     "execution_count": 27,
     "metadata": {},
     "output_type": "execute_result"
    }
   ],
   "source": [
    "tokenizer.save_pretrained(\"Tokenizer\")"
   ]
  },
  {
   "cell_type": "code",
   "execution_count": 28,
   "id": "9e13afb5-084c-4846-a08b-09c287dab627",
   "metadata": {},
   "outputs": [],
   "source": [
    "id2label = { str(i):label for i,label in enumerate(label_list) }\n",
    "label2id = { label:str(i) for i,label in enumerate(label_list) }"
   ]
  },
  {
   "cell_type": "code",
   "execution_count": 29,
   "id": "fd3740a6-7e1f-4b1b-98fe-ade7bbc8e2ab",
   "metadata": {},
   "outputs": [
    {
     "data": {
      "text/plain": [
       "{'0': 'O',\n",
       " '1': 'B-PER',\n",
       " '2': 'I-PER',\n",
       " '3': 'B-ORG',\n",
       " '4': 'I-ORG',\n",
       " '5': 'B-LOC',\n",
       " '6': 'I-LOC',\n",
       " '7': 'B-MISC',\n",
       " '8': 'I-MISC'}"
      ]
     },
     "execution_count": 29,
     "metadata": {},
     "output_type": "execute_result"
    }
   ],
   "source": [
    "id2label"
   ]
  },
  {
   "cell_type": "code",
   "execution_count": 30,
   "id": "67aef8c5-9618-44af-9fa2-5e9d9998d1c1",
   "metadata": {},
   "outputs": [
    {
     "data": {
      "text/plain": [
       "{'O': '0',\n",
       " 'B-PER': '1',\n",
       " 'I-PER': '2',\n",
       " 'B-ORG': '3',\n",
       " 'I-ORG': '4',\n",
       " 'B-LOC': '5',\n",
       " 'I-LOC': '6',\n",
       " 'B-MISC': '7',\n",
       " 'I-MISC': '8'}"
      ]
     },
     "execution_count": 30,
     "metadata": {},
     "output_type": "execute_result"
    }
   ],
   "source": [
    "label2id"
   ]
  },
  {
   "cell_type": "code",
   "execution_count": 32,
   "id": "1c01d05e-c246-486c-a57e-05d5983834d6",
   "metadata": {},
   "outputs": [],
   "source": [
    "import json\n",
    "config = json.load(open(\"NER-model/config.json\"))\n",
    "config['id2label'] = id2label\n",
    "config['label2id'] = label2id\n",
    "json.dump(config,open(\"NER-model/config.json\",\"w\"))"
   ]
  },
  {
   "cell_type": "code",
   "execution_count": 33,
   "id": "e8a1fc09-7e26-4790-b265-029270368be4",
   "metadata": {},
   "outputs": [],
   "source": [
    "fine_tuned_model = AutoModelForTokenClassification.from_pretrained(\"NER-model\")"
   ]
  },
  {
   "cell_type": "code",
   "execution_count": 34,
   "id": "44406479-4901-4532-82cd-3aee3aa434dc",
   "metadata": {},
   "outputs": [],
   "source": [
    "from transformers import pipeline\n",
    "pipe = pipeline(\"ner\",model = fine_tuned_model, tokenizer = tokenizer)"
   ]
  },
  {
   "cell_type": "code",
   "execution_count": 39,
   "id": "864ba773-eb7f-4052-b40d-ac9564ae2293",
   "metadata": {},
   "outputs": [
    {
     "name": "stdout",
     "output_type": "stream",
     "text": [
      "[{'entity': 'B-PER', 'score': 0.99755883, 'index': 4, 'word': 'ash', 'start': 11, 'end': 14}, {'entity': 'B-PER', 'score': 0.997781, 'index': 5, 'word': '##win', 'start': 14, 'end': 17}, {'entity': 'B-PER', 'score': 0.9971125, 'index': 6, 'word': '##th', 'start': 17, 'end': 19}, {'entity': 'B-ORG', 'score': 0.95637214, 'index': 15, 'word': 'iii', 'start': 59, 'end': 62}, {'entity': 'B-ORG', 'score': 0.9333498, 'index': 16, 'word': '##t', 'start': 62, 'end': 63}, {'entity': 'B-ORG', 'score': 0.96373814, 'index': 17, 'word': '##dm', 'start': 63, 'end': 65}]\n",
      "[{'entity': 'B-PER', 'score': 0.99755883, 'index': 4, 'word': 'ash', 'start': 11, 'end': 14}, {'entity': 'B-PER', 'score': 0.997781, 'index': 5, 'word': '##win', 'start': 14, 'end': 17}, {'entity': 'B-PER', 'score': 0.9971125, 'index': 6, 'word': '##th', 'start': 17, 'end': 19}, {'entity': 'B-ORG', 'score': 0.95637214, 'index': 15, 'word': 'iii', 'start': 59, 'end': 62}, {'entity': 'B-ORG', 'score': 0.9333498, 'index': 16, 'word': '##t', 'start': 62, 'end': 63}, {'entity': 'B-ORG', 'score': 0.96373814, 'index': 17, 'word': '##dm', 'start': 63, 'end': 65}]\n",
      "[{'entity': 'B-PER', 'score': 0.99755883, 'index': 4, 'word': 'ash', 'start': 11, 'end': 14}, {'entity': 'B-PER', 'score': 0.997781, 'index': 5, 'word': '##win', 'start': 14, 'end': 17}, {'entity': 'B-PER', 'score': 0.9971125, 'index': 6, 'word': '##th', 'start': 17, 'end': 19}, {'entity': 'B-ORG', 'score': 0.95637214, 'index': 15, 'word': 'iii', 'start': 59, 'end': 62}, {'entity': 'B-ORG', 'score': 0.9333498, 'index': 16, 'word': '##t', 'start': 62, 'end': 63}, {'entity': 'B-ORG', 'score': 0.96373814, 'index': 17, 'word': '##dm', 'start': 63, 'end': 65}]\n",
      "[{'entity': 'B-PER', 'score': 0.99755883, 'index': 4, 'word': 'ash', 'start': 11, 'end': 14}, {'entity': 'B-PER', 'score': 0.997781, 'index': 5, 'word': '##win', 'start': 14, 'end': 17}, {'entity': 'B-PER', 'score': 0.9971125, 'index': 6, 'word': '##th', 'start': 17, 'end': 19}, {'entity': 'B-ORG', 'score': 0.95637214, 'index': 15, 'word': 'iii', 'start': 59, 'end': 62}, {'entity': 'B-ORG', 'score': 0.9333498, 'index': 16, 'word': '##t', 'start': 62, 'end': 63}, {'entity': 'B-ORG', 'score': 0.96373814, 'index': 17, 'word': '##dm', 'start': 63, 'end': 65}]\n",
      "[{'entity': 'B-PER', 'score': 0.99755883, 'index': 4, 'word': 'ash', 'start': 11, 'end': 14}, {'entity': 'B-PER', 'score': 0.997781, 'index': 5, 'word': '##win', 'start': 14, 'end': 17}, {'entity': 'B-PER', 'score': 0.9971125, 'index': 6, 'word': '##th', 'start': 17, 'end': 19}, {'entity': 'B-ORG', 'score': 0.95637214, 'index': 15, 'word': 'iii', 'start': 59, 'end': 62}, {'entity': 'B-ORG', 'score': 0.9333498, 'index': 16, 'word': '##t', 'start': 62, 'end': 63}, {'entity': 'B-ORG', 'score': 0.96373814, 'index': 17, 'word': '##dm', 'start': 63, 'end': 65}]\n",
      "[{'entity': 'B-PER', 'score': 0.99755883, 'index': 4, 'word': 'ash', 'start': 11, 'end': 14}, {'entity': 'B-PER', 'score': 0.997781, 'index': 5, 'word': '##win', 'start': 14, 'end': 17}, {'entity': 'B-PER', 'score': 0.9971125, 'index': 6, 'word': '##th', 'start': 17, 'end': 19}, {'entity': 'B-ORG', 'score': 0.95637214, 'index': 15, 'word': 'iii', 'start': 59, 'end': 62}, {'entity': 'B-ORG', 'score': 0.9333498, 'index': 16, 'word': '##t', 'start': 62, 'end': 63}, {'entity': 'B-ORG', 'score': 0.96373814, 'index': 17, 'word': '##dm', 'start': 63, 'end': 65}]\n"
     ]
    }
   ],
   "source": [
    "sample_text = \"My name is Ashwinth and I am a Computer Science student at IIITDM\"\n",
    "# sample_text = \"Bill gates is the founder of Microsoft\"\n",
    "res = pipe(sample_text)\n",
    "for entity in res:\n",
    "    print(res)"
   ]
  },
  {
   "cell_type": "code",
   "execution_count": null,
   "id": "2a7d0fb9-7b48-4cca-aaa1-cb7478e398e0",
   "metadata": {},
   "outputs": [],
   "source": []
  }
 ],
 "metadata": {
  "kernelspec": {
   "display_name": "imageclassification",
   "language": "python",
   "name": "imageclassification"
  },
  "language_info": {
   "codemirror_mode": {
    "name": "ipython",
    "version": 3
   },
   "file_extension": ".py",
   "mimetype": "text/x-python",
   "name": "python",
   "nbconvert_exporter": "python",
   "pygments_lexer": "ipython3",
   "version": "3.7.6"
  }
 },
 "nbformat": 4,
 "nbformat_minor": 5
}
